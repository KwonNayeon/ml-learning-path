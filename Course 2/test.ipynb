{
 "cells": [
  {
   "cell_type": "code",
   "execution_count": 1,
   "id": "891ab68f",
   "metadata": {},
   "outputs": [
    {
     "name": "stdout",
     "output_type": "stream",
     "text": [
      "\u001b[33mhint: Using 'master' as the name for the initial branch. This default branch name\u001b[m\n",
      "\u001b[33mhint: is subject to change. To configure the initial branch name to use in all\u001b[m\n",
      "\u001b[33mhint: of your new repositories, which will suppress this warning, call:\u001b[m\n",
      "\u001b[33mhint: \u001b[m\n",
      "\u001b[33mhint: \tgit config --global init.defaultBranch <name>\u001b[m\n",
      "\u001b[33mhint: \u001b[m\n",
      "\u001b[33mhint: Names commonly chosen instead of 'master' are 'main', 'trunk' and\u001b[m\n",
      "\u001b[33mhint: 'development'. The just-created branch can be renamed via this command:\u001b[m\n",
      "\u001b[33mhint: \u001b[m\n",
      "\u001b[33mhint: \tgit branch -m <name>\u001b[m\n",
      "Initialized empty Git repository in /Users/user02/Documents/Notebooks/ml-learning-path/Course 2/.git/\n",
      "[master (root-commit) 9647884] To make sure I know the process\n",
      " Committer: User02 <user02@User02ui-MacBookAir.local>\n",
      "Your name and email address were configured automatically based\n",
      "on your username and hostname. Please check that they are accurate.\n",
      "You can suppress this message by setting them explicitly. Run the\n",
      "following command and follow the instructions in your editor to edit\n",
      "your configuration file:\n",
      "\n",
      "    git config --global --edit\n",
      "\n",
      "After doing this, you may fix the identity used for this commit with:\n",
      "\n",
      "    git commit --amend --reset-author\n",
      "\n",
      " 3 files changed, 40 insertions(+)\n",
      " create mode 100644 .ipynb_checkpoints/test-checkpoint.ipynb\n",
      " create mode 100644 README.md\n",
      " create mode 100644 test.ipynb\n",
      "To https://github.com/KwonNayeon/ml-learning-path.git\n",
      " \u001b[31m! [rejected]       \u001b[m master -> master (fetch first)\n",
      "\u001b[31merror: failed to push some refs to 'https://github.com/KwonNayeon/ml-learning-path.git'\n",
      "\u001b[m\u001b[33mhint: Updates were rejected because the remote contains work that you do\u001b[m\n",
      "\u001b[33mhint: not have locally. This is usually caused by another repository pushing\u001b[m\n",
      "\u001b[33mhint: to the same ref. You may want to first integrate the remote changes\u001b[m\n",
      "\u001b[33mhint: (e.g., 'git pull ...') before pushing again.\u001b[m\n",
      "\u001b[33mhint: See the 'Note about fast-forwards' in 'git push --help' for details.\u001b[m\n"
     ]
    }
   ],
   "source": [
    "!git init\n",
    "!git remote add origin https://github.com/KwonNayeon/ml-learning-path.git\n",
    "!git add .\n",
    "!git commit -m \"To make sure I know the process\"\n",
    "!git push -u origin master"
   ]
  },
  {
   "cell_type": "code",
   "execution_count": 2,
   "id": "91c820ca",
   "metadata": {},
   "outputs": [
    {
     "name": "stdout",
     "output_type": "stream",
     "text": [
      "\u001b[33mhint: Pulling without specifying how to reconcile divergent branches is\u001b[m\n",
      "\u001b[33mhint: discouraged. You can squelch this message by running one of the following\u001b[m\n",
      "\u001b[33mhint: commands sometime before your next pull:\u001b[m\n",
      "\u001b[33mhint: \u001b[m\n",
      "\u001b[33mhint:   git config pull.rebase false  # merge (the default strategy)\u001b[m\n",
      "\u001b[33mhint:   git config pull.rebase true   # rebase\u001b[m\n",
      "\u001b[33mhint:   git config pull.ff only       # fast-forward only\u001b[m\n",
      "\u001b[33mhint: \u001b[m\n",
      "\u001b[33mhint: You can replace \"git config\" with \"git config --global\" to set a default\u001b[m\n",
      "\u001b[33mhint: preference for all repositories. You can also pass --rebase, --no-rebase,\u001b[m\n",
      "\u001b[33mhint: or --ff-only on the command line to override the configured default per\u001b[m\n",
      "\u001b[33mhint: invocation.\u001b[m\n",
      "remote: Enumerating objects: 8, done.\u001b[K\n",
      "remote: Counting objects: 100% (8/8), done.\u001b[K\n",
      "remote: Compressing objects: 100% (7/7), done.\u001b[K\n",
      "remote: Total 8 (delta 1), reused 8 (delta 1), pack-reused 0\u001b[K\n",
      "Unpacking objects: 100% (8/8), 3.38 KiB | 385.00 KiB/s, done.\n",
      "From https://github.com/KwonNayeon/ml-learning-path\n",
      " * branch            master     -> FETCH_HEAD\n",
      " * [new branch]      master     -> origin/master\n",
      "fatal: refusing to merge unrelated histories\n",
      "[master b37ddbe] still testing\n",
      " Committer: User02 <user02@User02ui-MacBookAir.local>\n",
      "Your name and email address were configured automatically based\n",
      "on your username and hostname. Please check that they are accurate.\n",
      "You can suppress this message by setting them explicitly. Run the\n",
      "following command and follow the instructions in your editor to edit\n",
      "your configuration file:\n",
      "\n",
      "    git config --global --edit\n",
      "\n",
      "After doing this, you may fix the identity used for this commit with:\n",
      "\n",
      "    git commit --amend --reset-author\n",
      "\n",
      " 1 file changed, 59 insertions(+), 1 deletion(-)\n",
      "To https://github.com/KwonNayeon/ml-learning-path.git\n",
      " \u001b[31m! [rejected]       \u001b[m master -> master (non-fast-forward)\n",
      "\u001b[31merror: failed to push some refs to 'https://github.com/KwonNayeon/ml-learning-path.git'\n",
      "\u001b[m\u001b[33mhint: Updates were rejected because the tip of your current branch is behind\u001b[m\n",
      "\u001b[33mhint: its remote counterpart. Integrate the remote changes (e.g.\u001b[m\n",
      "\u001b[33mhint: 'git pull ...') before pushing again.\u001b[m\n",
      "\u001b[33mhint: See the 'Note about fast-forwards' in 'git push --help' for details.\u001b[m\n"
     ]
    }
   ],
   "source": [
    "!git pull origin master\n",
    "!git add .\n",
    "!git commit -m \"still testing\"\n",
    "!git push origin master"
   ]
  },
  {
   "cell_type": "code",
   "execution_count": 3,
   "id": "2d69e4ca",
   "metadata": {},
   "outputs": [
    {
     "name": "stdout",
     "output_type": "stream",
     "text": [
      "Switched to a new branch 'my-test-branch'\n",
      "[my-test-branch 26a443b] still testing\n",
      " Committer: User02 <user02@User02ui-MacBookAir.local>\n",
      "Your name and email address were configured automatically based\n",
      "on your username and hostname. Please check that they are accurate.\n",
      "You can suppress this message by setting them explicitly. Run the\n",
      "following command and follow the instructions in your editor to edit\n",
      "your configuration file:\n",
      "\n",
      "    git config --global --edit\n",
      "\n",
      "After doing this, you may fix the identity used for this commit with:\n",
      "\n",
      "    git commit --amend --reset-author\n",
      "\n",
      " 1 file changed, 65 insertions(+), 2 deletions(-)\n",
      "Enumerating objects: 12, done.\n",
      "Counting objects: 100% (12/12), done.\n",
      "Delta compression using up to 8 threads\n",
      "Compressing objects: 100% (10/10), done.\n",
      "Writing objects: 100% (12/12), 2.85 KiB | 2.85 MiB/s, done.\n",
      "Total 12 (delta 4), reused 0 (delta 0), pack-reused 0\n",
      "remote: Resolving deltas: 100% (4/4), done.\u001b[K\n",
      "remote: \n",
      "remote: Create a pull request for 'my-test-branch' on GitHub by visiting:\u001b[K\n",
      "remote:      https://github.com/KwonNayeon/ml-learning-path/pull/new/my-test-branch\u001b[K\n",
      "remote: \n",
      "To https://github.com/KwonNayeon/ml-learning-path.git\n",
      " * [new branch]      my-test-branch -> my-test-branch\n"
     ]
    }
   ],
   "source": [
    "!git checkout -b my-test-branch\n",
    "!git add .\n",
    "!git commit -m \"still testing\"\n",
    "!git push origin my-test-branch"
   ]
  },
  {
   "cell_type": "code",
   "execution_count": null,
   "id": "fb8e2285",
   "metadata": {},
   "outputs": [],
   "source": []
  }
 ],
 "metadata": {
  "kernelspec": {
   "display_name": "Python 3 (ipykernel)",
   "language": "python",
   "name": "python3"
  },
  "language_info": {
   "codemirror_mode": {
    "name": "ipython",
    "version": 3
   },
   "file_extension": ".py",
   "mimetype": "text/x-python",
   "name": "python",
   "nbconvert_exporter": "python",
   "pygments_lexer": "ipython3",
   "version": "3.9.13"
  }
 },
 "nbformat": 4,
 "nbformat_minor": 5
}
