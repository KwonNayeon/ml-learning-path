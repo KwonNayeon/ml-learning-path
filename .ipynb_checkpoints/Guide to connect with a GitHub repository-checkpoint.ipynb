{
 "cells": [
  {
   "cell_type": "code",
   "execution_count": 1,
   "id": "809b884f",
   "metadata": {},
   "outputs": [],
   "source": [
    "# To connect your Jupyter notebook and a specific repository in your GitHub account"
   ]
  },
  {
   "cell_type": "code",
   "execution_count": 1,
   "id": "3afff014",
   "metadata": {},
   "outputs": [
    {
     "name": "stdout",
     "output_type": "stream",
     "text": [
      "Reinitialized existing Git repository in /Users/user02/Documents/Notebooks/ml-learning-path/.git/\r\n"
     ]
    }
   ],
   "source": [
    "\"\"\"\n",
    "1. In GitHub, create a new repository and copy the repository URL.\n",
    "2. In Jupyter notebook, navigate to the directory where you want to create a new notebook or open an existing one.\n",
    "3. From the menu, select File > New Notebook > Python 3 to create a new notebook.\n",
    "4. In the first cell of the notebook, type the following code to initialize a Git repository in the current directory:\n",
    "\"\"\"\n",
    "!git init"
   ]
  },
  {
   "cell_type": "code",
   "execution_count": 3,
   "id": "055d312c",
   "metadata": {},
   "outputs": [
    {
     "name": "stdout",
     "output_type": "stream",
     "text": [
      "error: remote origin already exists.\r\n"
     ]
    }
   ],
   "source": [
    "# 5. Add your remote repository URL to your local repository using the following command:\n",
    "#!git remote add origin https://github.com/KwonNayeon/ml-learning-path.git"
   ]
  },
  {
   "cell_type": "code",
   "execution_count": 4,
   "id": "6acf7e85",
   "metadata": {},
   "outputs": [
    {
     "name": "stdout",
     "output_type": "stream",
     "text": [
      "Already up to date.\r\n"
     ]
    }
   ],
   "source": [
    "!git config pull.rebase false\n",
    "!git merge --allow-unrelated-histories main"
   ]
  },
  {
   "cell_type": "code",
   "execution_count": 5,
   "id": "d1d723df",
   "metadata": {},
   "outputs": [
    {
     "name": "stdout",
     "output_type": "stream",
     "text": [
      "On branch main\r\n",
      "Your branch is ahead of 'origin/main' by 6 commits.\r\n",
      "  (use \"git push\" to publish your local commits)\r\n",
      "\r\n",
      "Changes not staged for commit:\r\n",
      "  (use \"git add <file>...\" to update what will be committed)\r\n",
      "  (use \"git restore <file>...\" to discard changes in working directory)\r\n",
      "\t\u001b[31mmodified:   .ipynb_checkpoints/Guide to connect with a GitHub repository-checkpoint.ipynb\u001b[m\r\n",
      "\t\u001b[31mmodified:   Guide to connect with a GitHub repository.ipynb\u001b[m\r\n",
      "\r\n",
      "no changes added to commit (use \"git add\" and/or \"git commit -a\")\r\n"
     ]
    }
   ],
   "source": [
    "!git status"
   ]
  },
  {
   "cell_type": "code",
   "execution_count": 6,
   "id": "7a186778",
   "metadata": {},
   "outputs": [],
   "source": [
    "\"\"\"\n",
    "6. Now, you can add and commit changes to your local repository as usual,\n",
    "using Git commands such as git add, git commit, and git push.\n",
    "For example, to add all files in the current directory to the repository, you can run the following command:\n",
    "\"\"\"\n",
    "!git add ."
   ]
  },
  {
   "cell_type": "code",
   "execution_count": 7,
   "id": "9c18b108",
   "metadata": {},
   "outputs": [
    {
     "data": {
      "text/plain": [
       "'/Users/user02/Documents/Notebooks/ml-learning-path'"
      ]
     },
     "execution_count": 7,
     "metadata": {},
     "output_type": "execute_result"
    }
   ],
   "source": [
    "pwd"
   ]
  },
  {
   "cell_type": "code",
   "execution_count": 8,
   "id": "7bb0d87b",
   "metadata": {},
   "outputs": [
    {
     "name": "stdout",
     "output_type": "stream",
     "text": [
      "[main a3be236] updated the file titled Preprocessing and Pipelines.ipynb.\r\n",
      " 2 files changed, 140 insertions(+), 29 deletions(-)\r\n"
     ]
    }
   ],
   "source": [
    "# 7. After making changes, commit your changes with a message explaining the changes using the following command:\n",
    "!git commit -m \"updated the file titled Preprocessing and Pipelines.ipynb.\""
   ]
  },
  {
   "cell_type": "code",
   "execution_count": null,
   "id": "a0d0c91d",
   "metadata": {},
   "outputs": [
    {
     "name": "stdout",
     "output_type": "stream",
     "text": [
      "Username for 'https://github.com': "
     ]
    }
   ],
   "source": [
    "# Finally, push your changes to the remote repository on GitHub using the following command:\n",
    "!git push -u origin main"
   ]
  },
  {
   "cell_type": "code",
   "execution_count": null,
   "id": "76eda334",
   "metadata": {},
   "outputs": [],
   "source": [
    "\"\"\"\n",
    "- 한 repository의 같은 branch에 Course 1 & Course 2 folder를 연동하려고 시도했을 때 안 됐음\n",
    "- GitHub repository 확인하면 어떤 형식으로 연동되는지 대략 알 수 있음\n",
    "- 다음에 사용할 때 참고할 것\n",
    "\"\"\""
   ]
  }
 ],
 "metadata": {
  "kernelspec": {
   "display_name": "Python 3 (ipykernel)",
   "language": "python",
   "name": "python3"
  },
  "language_info": {
   "codemirror_mode": {
    "name": "ipython",
    "version": 3
   },
   "file_extension": ".py",
   "mimetype": "text/x-python",
   "name": "python",
   "nbconvert_exporter": "python",
   "pygments_lexer": "ipython3",
   "version": "3.9.13"
  }
 },
 "nbformat": 4,
 "nbformat_minor": 5
}
