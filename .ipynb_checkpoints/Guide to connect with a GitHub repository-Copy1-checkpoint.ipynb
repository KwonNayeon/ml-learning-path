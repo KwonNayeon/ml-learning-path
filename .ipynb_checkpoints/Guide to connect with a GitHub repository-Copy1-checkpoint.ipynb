{
 "cells": [
  {
   "cell_type": "code",
   "execution_count": 17,
   "id": "809b884f",
   "metadata": {},
   "outputs": [],
   "source": [
    "# To connect your Jupyter notebook and a specific repository in your GitHub account"
   ]
  },
  {
   "cell_type": "code",
   "execution_count": 18,
   "id": "3afff014",
   "metadata": {},
   "outputs": [
    {
     "name": "stdout",
     "output_type": "stream",
     "text": [
      "Reinitialized existing Git repository in /Users/user02/Documents/Notebooks/projects/.git/\r\n"
     ]
    }
   ],
   "source": [
    "\"\"\"\n",
    "1. In GitHub, create a new repository and copy the repository URL.\n",
    "2. In Jupyter notebook, navigate to the directory where you want to create a new notebook or open an existing one.\n",
    "3. From the menu, select File > New Notebook > Python 3 to create a new notebook.\n",
    "4. In the first cell of the notebook, type the following code to initialize a Git repository in the current directory:\n",
    "\"\"\"\n",
    "!git init"
   ]
  },
  {
   "cell_type": "code",
   "execution_count": 19,
   "id": "055d312c",
   "metadata": {},
   "outputs": [],
   "source": [
    "# 5. Add your remote repository URL to your local repository using the following command:\n",
    "#!git remote add upstream https://github.com/KwonNayeon/projects.git"
   ]
  },
  {
   "cell_type": "code",
   "execution_count": 20,
   "id": "302a99a3",
   "metadata": {},
   "outputs": [
    {
     "name": "stdout",
     "output_type": "stream",
     "text": [
      "fatal: A branch named 'new' already exists.\n",
      "\u001b[33mhint: Pulling without specifying how to reconcile divergent branches is\u001b[m\n",
      "\u001b[33mhint: discouraged. You can squelch this message by running one of the following\u001b[m\n",
      "\u001b[33mhint: commands sometime before your next pull:\u001b[m\n",
      "\u001b[33mhint: \u001b[m\n",
      "\u001b[33mhint:   git config pull.rebase false  # merge (the default strategy)\u001b[m\n",
      "\u001b[33mhint:   git config pull.rebase true   # rebase\u001b[m\n",
      "\u001b[33mhint:   git config pull.ff only       # fast-forward only\u001b[m\n",
      "\u001b[33mhint: \u001b[m\n",
      "\u001b[33mhint: You can replace \"git config\" with \"git config --global\" to set a default\u001b[m\n",
      "\u001b[33mhint: preference for all repositories. You can also pass --rebase, --no-rebase,\u001b[m\n",
      "\u001b[33mhint: or --ff-only on the command line to override the configured default per\u001b[m\n",
      "\u001b[33mhint: invocation.\u001b[m\n",
      "From https://github.com/KwonNayeon/projects\n",
      " * branch            new        -> FETCH_HEAD\n",
      "Already up to date.\n",
      "Already up to date.\n"
     ]
    }
   ],
   "source": [
    "!git checkout -b new\n",
    "!git pull upstream new\n",
    "!git merge --allow-unrelated-histories new"
   ]
  },
  {
   "cell_type": "code",
   "execution_count": 21,
   "id": "7a186778",
   "metadata": {},
   "outputs": [],
   "source": [
    "\"\"\"\n",
    "6. Now, you can add and commit changes to your local repository as usual,\n",
    "using Git commands such as git add, git commit, and git push.\n",
    "For example, to add all files in the current directory to the repository, you can run the following command:\n",
    "\"\"\"\n",
    "!git add ."
   ]
  },
  {
   "cell_type": "code",
   "execution_count": 22,
   "id": "7bb0d87b",
   "metadata": {},
   "outputs": [
    {
     "name": "stdout",
     "output_type": "stream",
     "text": [
      "On branch main\r\n",
      "nothing to commit, working tree clean\r\n"
     ]
    }
   ],
   "source": [
    "# 7. After making changes, commit your changes with a message explaining the changes using the following command:\n",
    "!git commit -m \"Add the first R project titled Visualizing Inequalities in Life Expectancy.ipynb\""
   ]
  },
  {
   "cell_type": "code",
   "execution_count": 23,
   "id": "a0d0c91d",
   "metadata": {},
   "outputs": [
    {
     "name": "stdout",
     "output_type": "stream",
     "text": [
      "Branch 'new' set up to track remote branch 'new' from 'upstream'.\r\n",
      "Everything up-to-date\r\n"
     ]
    }
   ],
   "source": [
    "# Finally, push your changes to the remote repository on GitHub using the following command:\n",
    "!git push -u upstream new"
   ]
  },
  {
   "cell_type": "code",
   "execution_count": 24,
   "id": "76eda334",
   "metadata": {},
   "outputs": [
    {
     "data": {
      "text/plain": [
       "'\\n- 한 repository의 같은 branch에 Course 1 & Course 2 folder를 연동하려고 시도했을 때 안 됐음\\n- GitHub repository 확인하면 어떤 형식으로 연동되는지 대략 알 수 있음\\n- 다음에 사용할 때 참고할 것\\n'"
      ]
     },
     "execution_count": 24,
     "metadata": {},
     "output_type": "execute_result"
    }
   ],
   "source": [
    "\"\"\"\n",
    "- 한 repository의 같은 branch에 Course 1 & Course 2 folder를 연동하려고 시도했을 때 안 됐음\n",
    "- GitHub repository 확인하면 어떤 형식으로 연동되는지 대략 알 수 있음\n",
    "- 다음에 사용할 때 참고할 것\n",
    "\"\"\""
   ]
  }
 ],
 "metadata": {
  "kernelspec": {
   "display_name": "Python 3 (ipykernel)",
   "language": "python",
   "name": "python3"
  },
  "language_info": {
   "codemirror_mode": {
    "name": "ipython",
    "version": 3
   },
   "file_extension": ".py",
   "mimetype": "text/x-python",
   "name": "python",
   "nbconvert_exporter": "python",
   "pygments_lexer": "ipython3",
   "version": "3.9.13"
  }
 },
 "nbformat": 4,
 "nbformat_minor": 5
}
