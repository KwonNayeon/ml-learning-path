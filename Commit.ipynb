{
 "cells": [
  {
   "cell_type": "code",
   "execution_count": 1,
   "id": "d80b2e8d",
   "metadata": {},
   "outputs": [
    {
     "name": "stdout",
     "output_type": "stream",
     "text": [
      "Reinitialized existing Git repository in /Users/user02/Documents/Notebooks/ml-learning-path/.git/\r\n"
     ]
    }
   ],
   "source": [
    "!git init"
   ]
  },
  {
   "cell_type": "code",
   "execution_count": 2,
   "id": "f7710f97",
   "metadata": {},
   "outputs": [
    {
     "name": "stdout",
     "output_type": "stream",
     "text": [
      "  main\u001b[m\r\n",
      "  master\u001b[m\r\n",
      "* \u001b[32mnew\u001b[m\r\n"
     ]
    }
   ],
   "source": [
    "!git branch"
   ]
  },
  {
   "cell_type": "code",
   "execution_count": 4,
   "id": "cdbd622d",
   "metadata": {},
   "outputs": [
    {
     "name": "stdout",
     "output_type": "stream",
     "text": [
      "Saved working directory and index state On new: My changes\r\n"
     ]
    }
   ],
   "source": [
    "!git stash save \"My changes\""
   ]
  },
  {
   "cell_type": "code",
   "execution_count": 5,
   "id": "fde9b606",
   "metadata": {},
   "outputs": [
    {
     "name": "stdout",
     "output_type": "stream",
     "text": [
      "warning: unable to rmdir 'ml-learning-path': Directory not empty\r\n",
      "Switched to branch 'main'\r\n",
      "Your branch is ahead of 'origin/main' by 9 commits.\r\n",
      "  (use \"git push\" to publish your local commits)\r\n"
     ]
    }
   ],
   "source": [
    "!git checkout main"
   ]
  },
  {
   "cell_type": "code",
   "execution_count": 6,
   "id": "fe868319",
   "metadata": {},
   "outputs": [
    {
     "name": "stdout",
     "output_type": "stream",
     "text": [
      "* \u001b[32mmain\u001b[m\r\n",
      "  master\u001b[m\r\n",
      "  new\u001b[m\r\n"
     ]
    }
   ],
   "source": [
    "!git branch"
   ]
  },
  {
   "cell_type": "code",
   "execution_count": 7,
   "id": "2fee5119",
   "metadata": {},
   "outputs": [
    {
     "name": "stdout",
     "output_type": "stream",
     "text": [
      "warning: adding embedded git repository: ml-learning-path\r\n",
      "\u001b[33mhint: You've added another git repository inside your current repository.\u001b[m\r\n",
      "\u001b[33mhint: Clones of the outer repository will not contain the contents of\u001b[m\r\n",
      "\u001b[33mhint: the embedded repository and will not know how to obtain it.\u001b[m\r\n",
      "\u001b[33mhint: If you meant to add a submodule, use:\u001b[m\r\n",
      "\u001b[33mhint: \u001b[m\r\n",
      "\u001b[33mhint: \tgit submodule add <url> ml-learning-path\u001b[m\r\n",
      "\u001b[33mhint: \u001b[m\r\n",
      "\u001b[33mhint: If you added this path by mistake, you can remove it from the\u001b[m\r\n",
      "\u001b[33mhint: index with:\u001b[m\r\n",
      "\u001b[33mhint: \u001b[m\r\n",
      "\u001b[33mhint: \tgit rm --cached ml-learning-path\u001b[m\r\n",
      "\u001b[33mhint: \u001b[m\r\n",
      "\u001b[33mhint: See \"git help submodule\" for more information.\u001b[m\r\n"
     ]
    }
   ],
   "source": [
    "!git add ."
   ]
  },
  {
   "cell_type": "code",
   "execution_count": 8,
   "id": "3bbdaf75",
   "metadata": {},
   "outputs": [
    {
     "name": "stdout",
     "output_type": "stream",
     "text": [
      "error: the following file has staged content different from both the\r\n",
      "file and the HEAD:\r\n",
      "    ml-learning-path\r\n",
      "(use -f to force removal)\r\n"
     ]
    }
   ],
   "source": [
    "!git rm --cached ml-learning-path"
   ]
  },
  {
   "cell_type": "code",
   "execution_count": null,
   "id": "134a6f8a",
   "metadata": {},
   "outputs": [],
   "source": []
  }
 ],
 "metadata": {
  "kernelspec": {
   "display_name": "Python 3 (ipykernel)",
   "language": "python",
   "name": "python3"
  },
  "language_info": {
   "codemirror_mode": {
    "name": "ipython",
    "version": 3
   },
   "file_extension": ".py",
   "mimetype": "text/x-python",
   "name": "python",
   "nbconvert_exporter": "python",
   "pygments_lexer": "ipython3",
   "version": "3.9.13"
  }
 },
 "nbformat": 4,
 "nbformat_minor": 5
}
